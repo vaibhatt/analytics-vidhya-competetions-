{
 "cells": [
  {
   "cell_type": "code",
   "execution_count": 2,
   "metadata": {
    "_cell_guid": "79c7e3d0-c299-4dcb-8224-4455121ee9b0",
    "_uuid": "d629ff2d2480ee46fbb7e2d37f6b5fab8052498a"
   },
   "outputs": [],
   "source": [
    "import numpy as np \n",
    "import pandas as pd\n",
    "import copy\n",
    "import matplotlib.pyplot as plt\n",
    "from PIL import Image\n",
    "import torch\n",
    "import torchvision\n",
    "from torchvision import models,transforms\n",
    "import cv2\n",
    "from tqdm import tqdm\n",
    "import torch.nn as nn\n",
    "from sklearn.model_selection import StratifiedKFold\n",
    "import albumentations\n",
    "import joblib"
   ]
  },
  {
   "cell_type": "code",
   "execution_count": 3,
   "metadata": {},
   "outputs": [],
   "source": [
    "train_img_path = \"../input/age detection of actors/train/Train\"\n",
    "train_df = pd.read_csv(\"../input/age detection of actors/train/train.csv\")\n",
    "\n",
    "test_img_path = \"../input/age detection of actors/test/Test\"\n",
    "test_df = pd.read_csv(\"../input/age detection of actors/test/test.csv\")\n",
    "\n",
    "sub_df = pd.read_csv(\"../input/age detection of actors/sample_submission.csv\")"
   ]
  },
  {
   "cell_type": "code",
   "execution_count": 4,
   "metadata": {},
   "outputs": [
    {
     "data": {
      "text/plain": [
       "array(['MIDDLE', 'YOUNG', 'OLD'], dtype=object)"
      ]
     },
     "execution_count": 4,
     "metadata": {},
     "output_type": "execute_result"
    }
   ],
   "source": [
    "train_df.Class.unique()\n"
   ]
  },
  {
   "cell_type": "code",
   "execution_count": 5,
   "metadata": {},
   "outputs": [
    {
     "name": "stdout",
     "output_type": "stream",
     "text": [
      "15924 3982\n",
      "15925 3981\n",
      "15925 3981\n",
      "15925 3981\n",
      "15925 3981\n"
     ]
    },
    {
     "name": "stderr",
     "output_type": "stream",
     "text": [
      "/opt/conda/lib/python3.7/site-packages/sklearn/model_selection/_split.py:297: FutureWarning: Setting a random_state has no effect since shuffle is False. This will raise an error in 0.24. You should leave random_state to its default (None), or set shuffle=True.\n",
      "  FutureWarning\n"
     ]
    }
   ],
   "source": [
    "train_df[\"kfold\"] = -1\n",
    "kf = StratifiedKFold(n_splits = 5,shuffle=False,random_state=42)\n",
    "train_df.sample(frac=1).reset_index(drop=True)\n",
    "\n",
    "for fold_,(train_,val_) in enumerate(kf.split(X=train_df,y=train_df.Class.values)):\n",
    "    train_df.loc[val_,\"kfold\"] = fold_\n",
    "    print(len(train_),len(val_))"
   ]
  },
  {
   "cell_type": "code",
   "execution_count": 6,
   "metadata": {},
   "outputs": [
    {
     "data": {
      "text/plain": [
       "0    3982\n",
       "4    3981\n",
       "3    3981\n",
       "2    3981\n",
       "1    3981\n",
       "Name: kfold, dtype: int64"
      ]
     },
     "execution_count": 6,
     "metadata": {},
     "output_type": "execute_result"
    }
   ],
   "source": [
    "train_df[\"kfold\"].value_counts()"
   ]
  },
  {
   "cell_type": "code",
   "execution_count": 7,
   "metadata": {},
   "outputs": [],
   "source": [
    "for i in range(train_df.shape[0]):\n",
    "    if train_df.loc[i,\"Class\"]=='YOUNG':\n",
    "        train_df.loc[i,\"Class\"] = 0\n",
    "    if train_df.loc[i,\"Class\"]==\"MIDDLE\":\n",
    "        train_df.loc[i,\"Class\"] = 1\n",
    "    if train_df.loc[i,\"Class\"]==\"OLD\":\n",
    "        train_df.loc[i,\"Class\"] = 2"
   ]
  },
  {
   "cell_type": "code",
   "execution_count": 8,
   "metadata": {},
   "outputs": [
    {
     "data": {
      "text/plain": [
       "array([1, 0, 2], dtype=object)"
      ]
     },
     "execution_count": 8,
     "metadata": {},
     "output_type": "execute_result"
    }
   ],
   "source": [
    "train_df.Class.unique()"
   ]
  },
  {
   "cell_type": "code",
   "execution_count": 9,
   "metadata": {},
   "outputs": [],
   "source": [
    "class ActorDataset:\n",
    "    def __init__(self,image_list,target,aug=None,new_dim=None):\n",
    "        self.image_list = image_list\n",
    "        self.aug = aug\n",
    "        self.target=target\n",
    "        self.new_dim = new_dim\n",
    "    \n",
    "    def __len__(self):\n",
    "        return len(self.image_list)\n",
    "    \n",
    "    def __getitem__(self,idx):\n",
    "        \n",
    "        image = self.image_list[idx]\n",
    "        image = Image.open(image)\n",
    "        if self.new_dim is not None:\n",
    "            image = image.resize(self.new_dim)\n",
    "        if self.aug is not None:\n",
    "            image = self.aug(image=np.array(image))[\"image\"]\n",
    "\n",
    "        image = np.transpose(image, (2, 0, 1)).astype(np.float32)\n",
    "        \n",
    "        return {\n",
    "            \"image\":torch.tensor(image,dtype=torch.float),\n",
    "            \"targets\":torch.tensor(self.target[idx],dtype = torch.long)\n",
    "        }\n",
    "        "
   ]
  },
  {
   "cell_type": "code",
   "execution_count": 10,
   "metadata": {},
   "outputs": [],
   "source": [
    "TRAIN_BATCH_SIZE = 16\n",
    "VAL_BATCH_SIZE = 16\n",
    "EPOCHS = 15\n",
    "MODEL = \"vgg\"\n",
    "NUM_CLASSES = 3\n",
    "DEVICE =\"cuda\""
   ]
  },
  {
   "cell_type": "code",
   "execution_count": 11,
   "metadata": {},
   "outputs": [],
   "source": [
    "def set_parameters_grad(model,feature_extract = False):\n",
    "    if feature_extract:\n",
    "        for param in model.parameters():\n",
    "            param.requires_grad = False"
   ]
  },
  {
   "cell_type": "code",
   "execution_count": 17,
   "metadata": {},
   "outputs": [],
   "source": [
    "def initialize_model(model,num_class,feature_extract=True,pretrained=True):\n",
    "    \n",
    "    model_ft = None\n",
    "    input_size = 0\n",
    "    \n",
    "    if model == \"resnet\":\n",
    "        model_ft = models.resnet50(pretrained = pretrained)\n",
    "        set_parameters_grad(model_ft,feature_extract)\n",
    "        num_ftrs = model.fc.in_features\n",
    "        model_ft.fc = nn.linear(num_ftrs,num_class)\n",
    "        input_size = (224,224)\n",
    "    \n",
    "    elif model == \"vgg\":\n",
    "        model_ft = models.vgg11_bn(pretrained=pretrained)\n",
    "        set_parameters_grad(model_ft, feature_extract)\n",
    "        num_ftrs = model_ft.classifier[6].in_features\n",
    "        model_ft.classifier[6] = nn.Linear(num_ftrs,3)\n",
    "        input_size = (224,224)\n",
    "    \n",
    "    elif model == \"alexnet\":\n",
    "        model_ft = models.alexnet(pretrained=pretrained)\n",
    "        set_parameters_grad(model_ft, feature_extract)\n",
    "        num_ftrs = model_ft.classifier[6].in_features\n",
    "        model_ft.classifier[6] = nn.Linear(num_ftrs,num_classes)\n",
    "        input_size = (224,224)\n",
    "    \n",
    "    elif model == \"densenet\":\n",
    "        self.model = models.densenet121(pretrained = pretrained)\n",
    "        set_parameters_grad(model_ft, feature_extract)\n",
    "        num_ftrs = model_ft.classifier.in_features\n",
    "        model_ft.classifier = nn.Linear(num_ftrs, num_class)\n",
    "        input_size = (224,224)\n",
    "    \n",
    "    elif model == \"squeezenet\":\n",
    "        model_ft = models.squeezenet1_0(pretrained=pretrained)\n",
    "        set_parameters_grad(model_ft, feature_extract)\n",
    "        model_ft.classifier[1] = nn.Conv2d(512, num_class, kernel_size=(1,1), stride=(1,1))\n",
    "        model_ft.num_classes = num_class\n",
    "        input_size = (224,224)\n",
    "    \n",
    "    else:\n",
    "        print(\"invalid model name\")\n",
    "    \n",
    "    return model_ft,input_size"
   ]
  },
  {
   "cell_type": "code",
   "execution_count": 23,
   "metadata": {},
   "outputs": [],
   "source": [
    "def train_model(model,dataloader,criterion,optimizer,device=DEVICE,epochs=5):\n",
    "    val_acc_history = []\n",
    "    best_model_weights = copy.deepcopy(model.state_dict())\n",
    "    best_acc = 0.0\n",
    "    \n",
    "    for epoch in range(epochs):\n",
    "        print(f\"EPOCH:{epoch}/{epochs-1}\")\n",
    "        print(\"-\"*20)\n",
    "        \n",
    "        for phase in [\"train\",\"val\"]:\n",
    "            if phase == \"train\":\n",
    "                model.train()\n",
    "                bs = TRAIN_BATCH_SIZE\n",
    "            else:\n",
    "                model.val()\n",
    "                bs = VAL_BATCH_SIZE\n",
    "        \n",
    "            running_loss = 0.0\n",
    "            running_corrects = 0\n",
    "\n",
    "            for i,batch in enumerate(dataloader[phase]):\n",
    "                inputs = batch[\"image\"]\n",
    "                labels = batch[\"targets\"]\n",
    "                    \n",
    "                if phase == \"train\":\n",
    "                    optimizer.zero_grad()\n",
    "                \n",
    "                with torch.set_grad_enabled(phase == \"train\"):\n",
    "                    outputs = model(inputs)\n",
    "                    loss = criterion(outputs,labels)\n",
    "\n",
    "                _, preds = torch.max(outputs, 1)\n",
    "\n",
    "                if phase == \"train\":\n",
    "                    loss.backward()\n",
    "                    optimizer.step()\n",
    "\n",
    "                running_corrects += torch.sum(preds == labels.data)\n",
    "                accuracy = running_corrects.double() / len(dataloader[phase].dataset)\n",
    "\n",
    "                print(f\"{phase} LOSS:{loss} , {phase} ACC:{accuracy}\")\n",
    "\n",
    "            if phase == 'val' and epoch_acc > best_acc:\n",
    "                best_acc = epoch_acc\n",
    "                best_model_wts = copy.deepcopy(model.state_dict())\n",
    "            if phase == 'val':\n",
    "                val_acc_history.append(epoch_acc)\n",
    "        \n",
    "    \n",
    "    print('Best val Acc: {:4f}'.format(best_acc))\n",
    "    \n",
    "    model.load_state_dict(best_model_wts)\n",
    "    return model,val_acc_history\n",
    "            \n",
    "            "
   ]
  },
  {
   "cell_type": "code",
   "execution_count": 21,
   "metadata": {},
   "outputs": [],
   "source": [
    "def run(fold):\n",
    "    train = train_df[train_df.kfold.values!=fold]\n",
    "    val = train_df[train_df.kfold.values==fold]\n",
    "\n",
    "    train_list = [os.path.join(train_img_path,train.ID.values[i]) for i in range(len(train.ID.values.tolist()))]\n",
    "    val_list = [os.path.join(train_img_path,val.ID.values[i]) for i in range(len(val.ID.values.tolist()))]\n",
    "    \n",
    "    train_target = train.Class.values.tolist()\n",
    "    val_target = val.Class.values.tolist()\n",
    "\n",
    "    model_ft,input_size = initialize_model(MODEL,num_class = NUM_CLASSES,feature_extract=False,pretrained=True)\n",
    "    \n",
    "    train_aug = albumentations.Compose([\n",
    "        albumentations.Normalize(mean = [0.485, 0.456, 0.406],std = [0.229, 0.224, 0.225]),\n",
    "        albumentations.RGBShift(p=0.3),\n",
    "        albumentations.RandomBrightnessContrast(p=0.3)\n",
    "        \n",
    "    ])\n",
    "    \n",
    "    train_dataset = ActorDataset(train_list,target=train_target,aug= train_aug,new_dim=input_size)\n",
    "\n",
    "    val_aug = albumentations.Compose([\n",
    "        albumentations.Normalize(mean = [0.485, 0.456, 0.406],std = [0.229, 0.224, 0.225])\n",
    "    ])\n",
    "    \n",
    "    val_dataset = ActorDataset(val_list,target=val_target,aug= train_aug,new_dim=input_size)\n",
    "\n",
    "    train_dataloader = torch.utils.data.DataLoader(\n",
    "        train_dataset,\n",
    "        batch_size = TRAIN_BATCH_SIZE,\n",
    "        shuffle = False,\n",
    "        num_workers = 4\n",
    "\n",
    "    )\n",
    "\n",
    "    val_dataloader = torch.utils.data.DataLoader(\n",
    "        val_dataset,\n",
    "        batch_size = VAL_BATCH_SIZE,\n",
    "        shuffle = False,\n",
    "        num_workers = 4\n",
    "\n",
    "    )\n",
    "\n",
    "    dataloader = {\n",
    "        \"train\":train_dataloader,\n",
    "        \"val\":val_dataloader\n",
    "    }\n",
    "    optimizer = torch.optim.SGD(model_ft.parameters(),lr = 3e-4, momentum = 0.9)\n",
    "    lossfn = nn.CrossEntropyLoss()\n",
    "    model,val_accuracy = train_model(model_ft,dataloader,criterion = lossfn,optimizer=optimizer,epochs=5)\n",
    "    model_path = os.path.join(\"../kaggle/working/fold_models\",f\"model_fold_{fold}.bin\")\n",
    "    torch.save(model.state_dict(), model_path)\n",
    "\n"
   ]
  },
  {
   "cell_type": "code",
   "execution_count": null,
   "metadata": {},
   "outputs": [],
   "source": [
    "os.mkdir(\"/kaggle/working/fold_models\")"
   ]
  },
  {
   "cell_type": "code",
   "execution_count": null,
   "metadata": {},
   "outputs": [],
   "source": [
    "if __name__==\"__main__\":\n",
    "    run(0)\n",
    "    run(1)\n",
    "    run(2)\n",
    "    run(3)\n",
    "    run(4)"
   ]
  },
  {
   "cell_type": "code",
   "execution_count": null,
   "metadata": {},
   "outputs": [],
   "source": []
  },
  {
   "cell_type": "code",
   "execution_count": null,
   "metadata": {},
   "outputs": [],
   "source": []
  }
 ],
 "metadata": {
  "kernelspec": {
   "display_name": "Python 3",
   "language": "python",
   "name": "python3"
  },
  "language_info": {
   "codemirror_mode": {
    "name": "ipython",
    "version": 3
   },
   "file_extension": ".py",
   "mimetype": "text/x-python",
   "name": "python",
   "nbconvert_exporter": "python",
   "pygments_lexer": "ipython3",
   "version": "3.7.4"
  }
 },
 "nbformat": 4,
 "nbformat_minor": 4
}
